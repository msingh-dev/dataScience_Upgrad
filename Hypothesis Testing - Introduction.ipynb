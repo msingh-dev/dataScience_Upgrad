{
 "cells": [
  {
   "cell_type": "markdown",
   "id": "5386921d",
   "metadata": {},
   "source": [
    "# Introduction"
   ]
  },
  {
   "cell_type": "markdown",
   "id": "bd01a809",
   "metadata": {},
   "source": [
    "<h3> What is Hypothesis Testing ? </h3>"
   ]
  },
  {
   "cell_type": "code",
   "execution_count": null,
   "id": "dfa83938",
   "metadata": {},
   "outputs": [],
   "source": []
  }
 ],
 "metadata": {
  "kernelspec": {
   "display_name": "Python 3 (ipykernel)",
   "language": "python",
   "name": "python3"
  },
  "language_info": {
   "codemirror_mode": {
    "name": "ipython",
    "version": 3
   },
   "file_extension": ".py",
   "mimetype": "text/x-python",
   "name": "python",
   "nbconvert_exporter": "python",
   "pygments_lexer": "ipython3",
   "version": "3.10.4"
  }
 },
 "nbformat": 4,
 "nbformat_minor": 5
}
